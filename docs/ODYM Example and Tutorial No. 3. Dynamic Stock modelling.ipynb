{
 "cells": [
  {
   "cell_type": "markdown",
   "metadata": {},
   "source": [
    "# ODYM Example no. 3.  Dynamic stock modelling.\n",
    "\n",
    "ODYM includes the Python class dynamic_stock_modelling for handling the inflow-driven and stock driven model of in-use stocks (http://www.teaching.industrialecology.uni-freiburg.de/  Methods section 3). Here it is shown how the dynamic stock model is used in the ODYM framework. Other methods of the dynamic_stock_modelling class can be used in a similar way.\n",
    "\n",
    "The research question is:\n",
    "+ \"How large are in-use stocks of steel in selected countries?\"\n",
    "+ \"What is the ration between steel in EoL (end-of-life) products to final steel consumption in selected countries?\"\n",
    "\n",
    "To answer that question the system definition is chosen as in the figure below. \n",
    "\n",
    "<img src=\"Images/SimpleProcess.png\" width=\"354\" height=\"290\" alt=\"Simple MFA system\">\n",
    "\n",
    "Stocks S and outflow O are calculated from apparent final consumption i(t), which is obtained from statistics, cf. DOI 10.1016/j.resconrec.2012.11.008 \n",
    "\n",
    "The model equations are as follows:\n",
    "\n",
    "First, we compute the outflow o_c(t,c) of each historic inflow/age-cohort i(c) in year t as\n",
    "\n",
    "$$o\\_c(t,c) = i(c) \\cdot sf(t,c) $$\n",
    "\n",
    "where sf is the survival function of the age cohort, which is 1-cdf (https://en.wikipedia.org/wiki/Survival_function).\n",
    "\n",
    "The total outflow o(t) in a given year is then\n",
    "\n",
    "$$ o(t) = \\sum_{c\\leq t} o\\_c(t,c)$$\n",
    "\n",
    "The mass balance leads to the stock change $dS$:\n",
    "\n",
    "$$ dS(t) = i(t) - o(t)$$\n",
    "\n",
    "And the stock finally is computed as\n",
    "\n",
    "$$ S(t) = \\sum_{t'\\leq t} ds(t') $$ \n",
    "\n",
    "\n",
    "### 1) Load ODYM\n"
   ]
  },
  {
   "cell_type": "code",
   "execution_count": 1,
   "metadata": {
    "collapsed": true
   },
   "outputs": [],
   "source": [
    "# Load a local copy of the current ODYM branch:\n",
    "import sys\n",
    "import os\n",
    "import numpy as np\n",
    "import pandas as pd\n",
    "import matplotlib.pyplot as plt\n",
    "import pickle\n",
    "import xlrd\n",
    "import pylab\n",
    "\n",
    "# For Ipython Notebook only\n",
    "%matplotlib inline\n",
    "\n",
    "# Specify path to dynamic stock model and to datafile, relative\n",
    "MainPath = os.path.join('..', 'odym', 'modules')\n",
    "DataPath = os.path.join('..', 'docs', 'files')\n",
    "sys.path.insert(0, MainPath) # add ODYM module directory to system path\n",
    "\n",
    "# add ODYM module directory to system path, absolute\n",
    "sys.path.insert(0, os.path.join(os.getcwd(),'..', 'odym', 'modules')) \n",
    "sys.path.insert(0, os.path.join(os.getcwd(),'..', 'docs', 'files')) \n",
    "\n",
    "import ODYM_Classes as msc # import the ODYM class file\n",
    "import ODYM_Functions as msf # import the ODYM function file\n",
    "import dynamic_stock_model as dsm # import the dynamic stock model library"
   ]
  },
  {
   "cell_type": "markdown",
   "metadata": {},
   "source": [
    "### 2) Define MFA system \n",
    "With the model imported, we cannow set up the system definition. The 'classical' elements of the system definition in MFA include: The processes, flows, and stocks, the material, the region, and the time frame studied. Next to these elements, ODYM features/requires the following elements to be specified:\n",
    "+ The list of chemical elements considered (Fe in this case)\n",
    "+ The classification(s) of the system variables (stocks and flows): Which materials, products, regions, or waste groups are considered? (Only the region dimension is used here.)\n",
    "+ An index letter to quickly/directly access a model aspect.\n",
    "+ A dictionary of model parameters.\n",
    "\n",
    "For all these items ODYM has a specific structure, which is used below.\n",
    "\n",
    "First, we define a classification of all objects flowing and accumulating in stocks:"
   ]
  },
  {
   "cell_type": "code",
   "execution_count": 2,
   "metadata": {
    "collapsed": true
   },
   "outputs": [],
   "source": [
    "ModelClassification  = {} # Create dictionary of model classifications\n",
    "\n",
    "MyYears = list(np.arange(1900,2009)) # Data are present for years 1900-2008\n",
    "ModelClassification['Time'] = msc.Classification(Name = 'Time', Dimension = 'Time', ID = 1,\n",
    "                                                 Items = MyYears)\n",
    "ModelClassification['Cohort'] = msc.Classification(Name = 'Age-cohort', Dimension = 'Time', ID = 1,\n",
    "                                                   Items = MyYears)\n",
    "# Classification for time labelled 'Time' must always be present, with Items containing a list of odered integers representing years, months, or other discrete time intervals\n",
    "# Classification for cohort is used to track age-cohorts in the stock.\n",
    "\n",
    "ModelClassification['Element'] = msc.Classification(Name = 'Elements', Dimension = 'Element', \n",
    "                                                    ID = 2, Items = ['Fe'])\n",
    "# Classification for elements labelled 'Element' must always be present, with Items containing a list of the symbols of the elements covered.\n",
    "\n",
    "MyRegions = ['Argentina', 'Brazil', 'Canada',\n",
    "             'Denmark', 'Ethiopia', 'France',\n",
    "             'Greece', 'Hungary', 'Indonesia']\n",
    "ModelClassification['Region'] = msc.Classification(Name = 'Regions', Dimension = 'Region', ID = 3,\n",
    "                                                   Items = MyRegions)\n",
    "# Classification for regions is chosen to include the regions that are in the scope of this analysis.\n",
    "\n",
    "# Get model time start, end, and duration:\n",
    "Model_Time_Start = int(min(ModelClassification['Time'].Items))\n",
    "Model_Time_End   = int(max(ModelClassification['Time'].Items))\n",
    "Model_Duration   = Model_Time_End - Model_Time_Start"
   ]
  },
  {
   "cell_type": "markdown",
   "metadata": {},
   "source": [
    "That dictionary of classifications enteres the index table defined for the system. The indext table lists all aspects needed and assigns a classification and index letter to each aspect."
   ]
  },
  {
   "cell_type": "code",
   "execution_count": 3,
   "metadata": {
    "collapsed": false
   },
   "outputs": [
    {
     "data": {
      "text/html": [
       "<div>\n",
       "<table border=\"1\" class=\"dataframe\">\n",
       "  <thead>\n",
       "    <tr style=\"text-align: right;\">\n",
       "      <th></th>\n",
       "      <th>Classification</th>\n",
       "      <th>Description</th>\n",
       "      <th>Dimension</th>\n",
       "      <th>IndexLetter</th>\n",
       "    </tr>\n",
       "    <tr>\n",
       "      <th>Aspect</th>\n",
       "      <th></th>\n",
       "      <th></th>\n",
       "      <th></th>\n",
       "      <th></th>\n",
       "    </tr>\n",
       "  </thead>\n",
       "  <tbody>\n",
       "    <tr>\n",
       "      <th>Time</th>\n",
       "      <td>&lt;ODYM_Classes.Classification object at 0x00000...</td>\n",
       "      <td>Model aspect \"time\"</td>\n",
       "      <td>Time</td>\n",
       "      <td>t</td>\n",
       "    </tr>\n",
       "    <tr>\n",
       "      <th>Age-cohort</th>\n",
       "      <td>&lt;ODYM_Classes.Classification object at 0x00000...</td>\n",
       "      <td>Model aspect \"age-cohort\"</td>\n",
       "      <td>Time</td>\n",
       "      <td>c</td>\n",
       "    </tr>\n",
       "    <tr>\n",
       "      <th>Element</th>\n",
       "      <td>&lt;ODYM_Classes.Classification object at 0x00000...</td>\n",
       "      <td>Model aspect \"Element\"</td>\n",
       "      <td>Element</td>\n",
       "      <td>e</td>\n",
       "    </tr>\n",
       "    <tr>\n",
       "      <th>Region</th>\n",
       "      <td>&lt;ODYM_Classes.Classification object at 0x00000...</td>\n",
       "      <td>Model aspect \"Region where flow occurs\"</td>\n",
       "      <td>Region</td>\n",
       "      <td>r</td>\n",
       "    </tr>\n",
       "  </tbody>\n",
       "</table>\n",
       "</div>"
      ],
      "text/plain": [
       "                                               Classification  \\\n",
       "Aspect                                                          \n",
       "Time        <ODYM_Classes.Classification object at 0x00000...   \n",
       "Age-cohort  <ODYM_Classes.Classification object at 0x00000...   \n",
       "Element     <ODYM_Classes.Classification object at 0x00000...   \n",
       "Region      <ODYM_Classes.Classification object at 0x00000...   \n",
       "\n",
       "                                        Description Dimension IndexLetter  \n",
       "Aspect                                                                     \n",
       "Time                            Model aspect \"time\"      Time           t  \n",
       "Age-cohort                Model aspect \"age-cohort\"      Time           c  \n",
       "Element                      Model aspect \"Element\"   Element           e  \n",
       "Region      Model aspect \"Region where flow occurs\"    Region           r  "
      ]
     },
     "execution_count": 3,
     "metadata": {},
     "output_type": "execute_result"
    }
   ],
   "source": [
    "IndexTable = pd.DataFrame({'Aspect'        : ['Time','Age-cohort','Element','Region'], # 'Time' and 'Element' must be present!\n",
    "                           'Description'   : ['Model aspect \"time\"','Model aspect \"age-cohort\"', 'Model aspect \"Element\"','Model aspect \"Region where flow occurs\"'],\n",
    "                           'Dimension'     : ['Time','Time','Element','Region'], # 'Time' and 'Element' are also dimensions\n",
    "                           'Classification': [ModelClassification[Aspect] for Aspect in ['Time','Cohort','Element','Region']],\n",
    "                           'IndexLetter'   : ['t','c','e','r']}) # Unique one letter (upper or lower case) indices to be used later for calculations.\n",
    "\n",
    "IndexTable.set_index('Aspect', inplace = True) # Default indexing of IndexTable, other indices are produced on the fly\n",
    "\n",
    "IndexTable"
   ]
  },
  {
   "cell_type": "markdown",
   "metadata": {},
   "source": [
    "We can now define our MFA system: "
   ]
  },
  {
   "cell_type": "code",
   "execution_count": 4,
   "metadata": {
    "collapsed": true
   },
   "outputs": [],
   "source": [
    "Dyn_MFA_System = msc.MFAsystem(Name = 'StockAccumulationSystem', \n",
    "                      Geogr_Scope = '9SelectedRegions', \n",
    "                      Unit = 'kt', \n",
    "                      ProcessList = [], \n",
    "                      FlowDict = {}, \n",
    "                      StockDict = {},\n",
    "                      ParameterDict = {}, \n",
    "                      Time_Start = Model_Time_Start, \n",
    "                      Time_End = Model_Time_End, \n",
    "                      IndexTable = IndexTable, \n",
    "                      Elements = IndexTable.loc['Element'].Classification.Items) # Initialize MFA system"
   ]
  },
  {
   "cell_type": "markdown",
   "metadata": {},
   "source": [
    "This system has a name, a geographical scope, a system-wide unit, a time frame, an index table with all aspects defined, and a list of chemical elements considered.\n",
    "\n",
    "### 3) Reading data from Excel and formatting data\n",
    "In this example the required inflow is obtained from the steel cycle database available at http://www.database.industrialecology.uni-freiburg.de/\n",
    "\n",
    "The steel cycle dataset is selected in the table of contents and then in the download frame for flows the following countries are selected and data are exported to .csv.\n",
    "\n",
    "<img src=\"Images/Steel_Consumption_Final_9Countries.png\" width=\"554\" height=\"290\" alt=\"Database screenshot\">\n",
    "\n",
    "The .csv file provided by the database is then read by Excel and stored as .xlsx for better readability. The average lifetime for steel is obtained directly from the SI of the orginal publication and stored in a separate .xlsx file. A copy of both files is provided on the GitHub repo and parsed as follows:"
   ]
  },
  {
   "cell_type": "code",
   "execution_count": 5,
   "metadata": {
    "collapsed": false
   },
   "outputs": [
    {
     "name": "stdout",
     "output_type": "stream",
     "text": [
      "[45.0, 25.0, 35.0, 55.0, 70.0, 45.0, 70.0, 30.0, 30.0]\n"
     ]
    }
   ],
   "source": [
    "LifetimeFile  = xlrd.open_workbook(os.path.join(DataPath, 'Steel_Lifetime_9Countries.xlsx'))\n",
    "Datasheet = LifetimeFile.sheet_by_name('Average_Lifetime')\n",
    "\n",
    "Lifetimes = []\n",
    "\n",
    "for m in range(1,10):\n",
    "    Lifetimes.append(Datasheet.cell_value(m,1)) # Add lifetime values to list\n",
    "print(Lifetimes)    "
   ]
  },
  {
   "cell_type": "markdown",
   "metadata": {},
   "source": [
    "For the inflow array, we also need to assign the flow values to the right countries:"
   ]
  },
  {
   "cell_type": "code",
   "execution_count": 6,
   "metadata": {
    "collapsed": false
   },
   "outputs": [
    {
     "name": "stdout",
     "output_type": "stream",
     "text": [
      "(9, 109)\n"
     ]
    }
   ],
   "source": [
    "InflowFile  = xlrd.open_workbook(os.path.join(DataPath, 'Steel_Consumption_Final_9Countries.xlsx'))\n",
    "Datasheet = InflowFile.sheet_by_name('FinalSteelConsumption')\n",
    "\n",
    "InflowArray = np.zeros((len(MyRegions),len(MyYears))) # OriginRegion x DestinationRegion x Year\n",
    "print(InflowArray.shape)\n",
    "\n",
    "for m in range(1,982):\n",
    "    OriginCountryPosition      = MyRegions.index(Datasheet.cell_value(m,7))\n",
    "    YearPosition               = MyYears.index(int(Datasheet.cell_value(m,10)))\n",
    "    InflowArray[OriginCountryPosition,YearPosition] = Datasheet.cell_value(m,13)"
   ]
  },
  {
   "cell_type": "markdown",
   "metadata": {},
   "source": [
    "\n",
    "### 4) Inserting data into the MFA system\n",
    "\n",
    "It is lacking a list of processes, stocks, flows, and parameters, and these are now defined and inserted into the system:"
   ]
  },
  {
   "cell_type": "code",
   "execution_count": 7,
   "metadata": {
    "collapsed": false
   },
   "outputs": [
    {
     "data": {
      "text/plain": [
       "[<ODYM_Classes.Process at 0x9044524c18>,\n",
       " <ODYM_Classes.Process at 0x9044524978>]"
      ]
     },
     "execution_count": 7,
     "metadata": {},
     "output_type": "execute_result"
    }
   ],
   "source": [
    "Dyn_MFA_System.ProcessList = [] # Start with empty process list, only process numbers (IDs) and names are needed.\n",
    "Dyn_MFA_System.ProcessList.append(msc.Process(Name = 'Other_industries' , ID   = 0))\n",
    "Dyn_MFA_System.ProcessList.append(msc.Process(Name = 'Use phase'        , ID   = 1))\n",
    "\n",
    "# Print list of processes:\n",
    "Dyn_MFA_System.ProcessList"
   ]
  },
  {
   "cell_type": "markdown",
   "metadata": {},
   "source": [
    "Now, we define the parameter values for the inflow and yield parameters:"
   ]
  },
  {
   "cell_type": "code",
   "execution_count": 8,
   "metadata": {
    "collapsed": true
   },
   "outputs": [],
   "source": [
    "ParameterDict = {}\n",
    "\n",
    "#\n",
    "ParameterDict['Inflow']= msc.Parameter(Name = 'Final steel consumption', ID = 1, P_Res = 1,\n",
    "                                       MetaData = None, Indices = 'r,t', \n",
    "                                       Values = InflowArray, Unit = 'kt/yr')\n",
    "\n",
    "#\n",
    "ParameterDict['tau']   = msc.Parameter(Name = 'mean product lifetime', ID = 2, P_Res = 1, \n",
    "                                       MetaData = None, Indices = 'r', \n",
    "                                       Values = Lifetimes, Unit = 'yr')\n",
    "ParameterDict['sigma'] = msc.Parameter(Name = 'stddev of mean product lifetime', ID = 3, P_Res = 1,\n",
    "                                       MetaData = None, Indices = 'r', \n",
    "                                       Values = [0.3 * i for i in Lifetimes], Unit = 'yr')\n",
    "\n",
    "# Assign parameter dictionary to MFA system:\n",
    "Dyn_MFA_System.ParameterDict = ParameterDict"
   ]
  },
  {
   "cell_type": "markdown",
   "metadata": {
    "collapsed": true
   },
   "source": [
    "The flows, stocks changes, and stocks are as follows:"
   ]
  },
  {
   "cell_type": "code",
   "execution_count": 9,
   "metadata": {
    "collapsed": true
   },
   "outputs": [],
   "source": [
    "# Define the flows of the system, and initialise their values:\n",
    "Dyn_MFA_System.FlowDict['F_0_1'] = msc.Flow(Name = 'final consumption', P_Start = 0, P_End = 1,\n",
    "                                            Indices = 't,r,e', Values=None)\n",
    "Dyn_MFA_System.FlowDict['F_1_0'] = msc.Flow(Name = 'Eol products', P_Start = 1, P_End = 0,\n",
    "                                            Indices = 't,c,r,e', Values=None)\n",
    "Dyn_MFA_System.StockDict['S_1']   = msc.Stock(Name = 'steel stock', P_Res = 1, Type = 0,\n",
    "                                              Indices = 't,c,r,e', Values=None)\n",
    "Dyn_MFA_System.StockDict['dS_1']  = msc.Stock(Name = 'steel stock change', P_Res = 1, Type = 1,\n",
    "                                              Indices = 't,r,e', Values=None)\n",
    "\n",
    "Dyn_MFA_System.Initialize_FlowValues() # Assign empty arrays to flows according to dimensions.\n",
    "Dyn_MFA_System.Initialize_StockValues() # Assign empty arrays to flows according to dimensions."
   ]
  },
  {
   "cell_type": "code",
   "execution_count": 10,
   "metadata": {
    "collapsed": false
   },
   "outputs": [
    {
     "data": {
      "text/plain": [
       "(True, True, True)"
      ]
     },
     "execution_count": 10,
     "metadata": {},
     "output_type": "execute_result"
    }
   ],
   "source": [
    "# Check whether flow value arrays match their indices, etc. See method documentation.\n",
    "Dyn_MFA_System.Consistency_Check() "
   ]
  },
  {
   "cell_type": "markdown",
   "metadata": {},
   "source": [
    "### 5) Programming a solution of the MFA system\n",
    "Now the system definition is complete, and we can program the model solution, making use of the dynamic_stock_model methods (see also https://github.com/stefanpauliuk/dynamic_stock_model)."
   ]
  },
  {
   "cell_type": "code",
   "execution_count": 11,
   "metadata": {
    "collapsed": true
   },
   "outputs": [],
   "source": [
    "# Fit model parameter 'Inflow' to right shape in FlowDict:\n",
    "Dyn_MFA_System.FlowDict['F_0_1'].Values[:,:,0] = Dyn_MFA_System.ParameterDict['Inflow'].Values.transpose()\n",
    "\n",
    "# Loop over all regions to determine inflow-driven stock:\n",
    "for region in np.arange(0,len(MyRegions)):\n",
    "    # Create helper DSM for computing the dynamic stock model:\n",
    "    DSM_Inflow = dsm.DynamicStockModel(t = np.array(MyYears),\n",
    "                                       i = Dyn_MFA_System.ParameterDict['Inflow'].Values[region,:], \n",
    "                                       lt = {'Type': 'Normal', 'Mean': [Dyn_MFA_System.ParameterDict['tau'].Values[region]],\n",
    "                                             'StdDev': [Dyn_MFA_System.ParameterDict['sigma'].Values[region]]})\n",
    "    Stock_by_cohort = DSM_Inflow.compute_s_c_inflow_driven()\n",
    "    O_C = DSM_Inflow.compute_o_c_from_s_c()\n",
    "    S = DSM_Inflow.compute_stock_total()\n",
    "    DS = DSM_Inflow.compute_stock_change()\n",
    "    Dyn_MFA_System.FlowDict['F_1_0'].Values[:,:,region,0] = O_C\n",
    "    Dyn_MFA_System.StockDict['dS_1'].Values[:,region,0] = DS\n",
    "    Dyn_MFA_System.StockDict[ 'S_1'].Values[:,:,region,0] = Stock_by_cohort"
   ]
  },
  {
   "cell_type": "markdown",
   "metadata": {},
   "source": [
    "### 6) Mass-balance-check\n",
    "One major advantage of the ODYM system structure is that mass balance checks can be performed automatically using unit-tested routines without further programming need:"
   ]
  },
  {
   "cell_type": "code",
   "execution_count": 12,
   "metadata": {
    "collapsed": false
   },
   "outputs": [
    {
     "name": "stdout",
     "output_type": "stream",
     "text": [
      "(109, 2, 1)\n",
      "[[  3.57113095e-09]\n",
      " [  3.57113095e-09]]\n"
     ]
    }
   ],
   "source": [
    "Bal = Dyn_MFA_System.MassBalance()\n",
    "print(Bal.shape) # dimensions of balance are: time step x process x chemical element\n",
    "print(np.abs(Bal).sum(axis = 0)) # reports the sum of all absolute balancing errors by process."
   ]
  },
  {
   "cell_type": "markdown",
   "metadata": {},
   "source": [
    "The ODYM mass balance array reports the balance for each chemical element, each year, and each process, including the system balance (process 0).\n",
    "\n",
    "It shows that both the system and the use phase are balanced."
   ]
  },
  {
   "cell_type": "markdown",
   "metadata": {},
   "source": [
    "### 7) Research questions\n",
    "We now address the research questions. First, we plot the steel stock in the different countries over time:"
   ]
  },
  {
   "cell_type": "code",
   "execution_count": 13,
   "metadata": {
    "collapsed": false
   },
   "outputs": [
    {
     "data": {
      "text/plain": [
       "<matplotlib.legend.Legend at 0x90445f13c8>"
      ]
     },
     "execution_count": 13,
     "metadata": {},
     "output_type": "execute_result"
    },
    {
     "data": {
      "image/png": "[encoded data removed]",
      "text/plain": [
       "<matplotlib.figure.Figure at 0x904458b9b0>"
      ]
     },
     "metadata": {},
     "output_type": "display_data"
    }
   ],
   "source": [
    "MyColorCycle = pylab.cm.Paired(np.arange(0,1,0.1)) # select 10 colors from the 'Paired' color map.\n",
    "fig, ax = plt.subplots()\n",
    "for m in range(0,len(MyRegions)):\n",
    "    ax.plot(Dyn_MFA_System.IndexTable['Classification']['Time'].Items, \n",
    "            Dyn_MFA_System.StockDict['S_1'].Values[:,:,m,0].sum(axis =1)/1000, \n",
    "            color = MyColorCycle[m,:])\n",
    "ax.set_ylabel('In-use stocks of steel, Mt,',fontsize =16)\n",
    "ax.legend(MyRegions, loc='upper left',prop={'size':10})"
   ]
  },
  {
   "cell_type": "markdown",
   "metadata": {},
   "source": [
    "We then plot the ratio of outflow over inflow, which is a measure of the stationarity of a stock, and can be interpreted as one indicator for a 'circular economy'."
   ]
  },
  {
   "cell_type": "code",
   "execution_count": 14,
   "metadata": {
    "collapsed": false
   },
   "outputs": [
    {
     "data": {
      "text/plain": [
       "<matplotlib.legend.Legend at 0x9044b1ec50>"
      ]
     },
     "execution_count": 14,
     "metadata": {},
     "output_type": "execute_result"
    },
    {
     "data": {
      "image/png": "[encoded data removed]",
      "text/plain": [
       "<matplotlib.figure.Figure at 0x90444c8320>"
      ]
     },
     "metadata": {},
     "output_type": "display_data"
    }
   ],
   "source": [
    "FlowRatio = Dyn_MFA_System.FlowDict['F_1_0'].Values[:,:,:,0].sum(axis =1) \\\n",
    "    / Dyn_MFA_System.FlowDict['F_0_1'].Values[:,:,0]\n",
    "    \n",
    "FlowRatio[np.isnan(FlowRatio)] = 0  # Set all ratios where reference flow F_0_1 was zero to zero, not nan.  \n",
    "\n",
    "fig, ax = plt.subplots()\n",
    "for m in range(0,len(MyRegions)):\n",
    "    ax.plot(Dyn_MFA_System.IndexTable['Classification']['Time'].Items, \n",
    "            FlowRatio[:,m] * 100, color = MyColorCycle[m,:])\n",
    "ax.plot([1900,2020],[100,100], color = 'k',linestyle = '--')\n",
    "ax.set_ylabel('In-use stocks of steel, Mt,',fontsize =16)\n",
    "ax.legend(MyRegions, loc='upper left',prop={'size':8})"
   ]
  },
  {
   "cell_type": "markdown",
   "metadata": {},
   "source": [
    "We see that for the rich countries France and Canada the share has been steadily growing since WW2. Upheavals such as wars and major economic crises can also be seen, in particular, for Hungary."
   ]
  },
  {
   "cell_type": "markdown",
   "metadata": {},
   "source": [
    "### 8) Save data and results\n",
    "Save entire system: "
   ]
  },
  {
   "cell_type": "code",
   "execution_count": 15,
   "metadata": {
    "collapsed": true
   },
   "outputs": [],
   "source": [
    "pickle.dump( {'MFATestSystem': Dyn_MFA_System}, open( \"Tutorial3_MFATestSystem.p\", \"wb\" ) )"
   ]
  }
 ],
 "metadata": {
  "kernelspec": {
   "display_name": "Python 3",
   "language": "python",
   "name": "python3"
  },
  "language_info": {
   "codemirror_mode": {
    "name": "ipython",
    "version": 3
   },
   "file_extension": ".py",
   "mimetype": "text/x-python",
   "name": "python",
   "nbconvert_exporter": "python",
   "pygments_lexer": "ipython3",
   "version": "3.5.3"
  }
 },
 "nbformat": 4,
 "nbformat_minor": 2
}
